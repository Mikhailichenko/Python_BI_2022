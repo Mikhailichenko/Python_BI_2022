{
  "nbformat": 4,
  "nbformat_minor": 0,
  "metadata": {
    "colab": {
      "provenance": [],
      "collapsed_sections": []
    },
    "kernelspec": {
      "name": "python3",
      "display_name": "Python 3"
    },
    "language_info": {
      "name": "python"
    }
  },
  "cells": [
    {
      "cell_type": "code",
      "execution_count": 9,
      "metadata": {
        "id": "xNC5PJso5mwy"
      },
      "outputs": [],
      "source": [
        "import re"
      ]
    },
    {
      "cell_type": "code",
      "source": [
        "path_to_references = input(\"Enter path to file with references\\n\")\n",
        "path_to_ftps = input(\"Enter the path to the file where ftp links will be written\\n\")\n",
        "with open(path_to_ftps, \"w\") as ftps:\n",
        "    with open(path_to_references, \"r\") as file1:\n",
        "        for line in file1:\n",
        "            op = re.split(r\"[\\t;\\n]\", line)\n",
        "            for i in op:\n",
        "                imgtag  = re.match(r\"ftp.*?\\/(.*?\\/).*?\\..*\", i)\n",
        "                if imgtag:\n",
        "                    ftps.write(imgtag.group(0)+\"\\n\")\n",
        "\n"
      ],
      "metadata": {
        "id": "Lnjv1hYtCK4j",
        "colab": {
          "base_uri": "https://localhost:8080/"
        },
        "outputId": "f5678631-ff2d-4df3-a25e-4bed9cd7691e"
      },
      "execution_count": 11,
      "outputs": [
        {
          "name": "stdout",
          "output_type": "stream",
          "text": [
            "Enter path to file with references\n",
            "/content/references.txt\n",
            "Enter the path to the file where ftp links will be written\n",
            "/content/ftps.txt\n"
          ]
        }
      ]
    },
    {
      "cell_type": "code",
      "source": [
        "path_to_text = input(\"Enter the path to the file with the text 2430AD\\n\")\n",
        "ans = []\n",
        "with open(path_to_text, \"r\") as file1:\n",
        "    for line in file1:\n",
        "        ans = ans + re.findall(r'-?\\d+\\.?\\d*', line)\n",
        "print(ans)\n"
      ],
      "metadata": {
        "colab": {
          "base_uri": "https://localhost:8080/"
        },
        "id": "_7-z240uCLSE",
        "outputId": "ed1038df-51a8-43a4-9c37-67d57ed158e8"
      },
      "execution_count": 12,
      "outputs": [
        {
          "output_type": "stream",
          "name": "stdout",
          "text": [
            "Enter the path to the file with the text 2430AD\n",
            "/content/2430AD.txt\n",
            "['2430', '1969', '2430', '2430', '57', '57', '1970', '3.68', '35', '460', '2430']\n"
          ]
        }
      ]
    },
    {
      "cell_type": "code",
      "source": [
        "ans = []\n",
        "with open(path_to_text, \"r\") as file1:\n",
        "    for line in file1:\n",
        "        ans = ans + re.findall(r\"[\\s\\W]*(\\w*[Aa]\\w*)[\\s\\W]*\", line)\n",
        "print(ans)\n"
      ],
      "metadata": {
        "colab": {
          "base_uri": "https://localhost:8080/"
        },
        "id": "JmFTu7JP9J9p",
        "outputId": "c459071c-d5b1-4ade-9fd4-ca621bb8d215"
      },
      "execution_count": 13,
      "outputs": [
        {
          "output_type": "stream",
          "name": "stdout",
          "text": [
            "['A', 'and', 'dawn', 'and', 'all', 'ache', 'have', 'a', 'nightmare', 'a', 'are', 'all', 'and', 'a', 'gleam', 'anywhere', 'an', 'original', 'a', 'personality', 'packed', 'talk', 'said', 'Alvarez', 'said', 'Social', 'eventually', 'An', 'character', 'escaped', 'adjustment', 'talking', 'irritates', 'past', 'tact', 'along', 'Trail', 'was', 'as', 'always', 'sparsely', 'have', 'taken', 'and', 'Alvarez', 'walking', 'Alvarez', 'was', 'tall', 'and', 'rather', 'athletic', 'a', 'muscular', 'activities', 'stairs', 'and', 'rampways', 'instance', 'almost', 'an', 'character', 'and', 'avoided', 'sunlamps', 'and', 'was', 'pale', 'said', 'want', 'can', 'have', 'square', 'space', 'and', 'has', 'apartment', 'Rather', 'a', 'a', 'way', 'said', 'Alvarez', 'And', 'a', 'Alvarez', 'added', 'matter', 'reach', 'peak', 'reach', 'reach', 'goal', 'All', 'mankind', 'And', 'said', 'at', 'that', 'way', 'that', 'against', 'plastic', 'passed', 'and', 'saw', 'distance', 'was', 'a', 'plankton', 'varieties', 'almost', 'that', 'above', 'far', 'above', 'was', 'giant', 'leading', 'sea', 'And', 'another', 'as', 'large', 'far', 'leading', 'sea', 'destination', 'was', 'a', 'back', 'that', 'thousands', 'had', 'passed', 'was', 'about', 'an', 'intangible', 'and', 'space', 'wall', 'was', 'blank', 'And', 'was', 'air', 'said', 'Alvarez', 'Inhuman', 'Literally', 'said', 'at', 'easy', 'signaled', 'waited', 'all', 'around', 'disregarded', 'manner', 'was', 'always', 'Cranwitz', 'was', 'waiting', 'same', 'all', 'gray', 'hair', 'and', 'uneasily', 'May', 'asked', 'Alvarez', 'Cranwitz', 'was', 'Cranwitz', 'and', 'sat', 'Cranwitz', 'remained', 'standing', 'and', 'said', 'Alvarez', 'said', 'ask', 'capacity', 'as', 'Representative', 'as', 'Representative', 'are', 'ready', 'social', 'Cranwitz', 'finally', 'was', 'and', 'had', 'clear', 'throat', 'want', 'said', 'have', 'a', 'contract', 'standing', 'family', 'has', 'always', 'had', 'all', 'and', 'said', 'irritably', 'asking', 'accede', 'voluntarily', 'Alvarez', 'understand', 'situation', 'what', 'was', 'father', 'really', 'what', 'was', 'last', 'year', 'Cranwitz', 'jaw', 'that', 'rate', 'has', 'year', 'amount', 'and', 'has', 'changed', 'That', 'year', 'year', 'year', 'carry', 'Alvarez', 'was', 'year', 'was', 'and', 'said', 'year', 'reached', 'goal', 'rate', 'exactly', 'matches', 'death', 'rate', 'population', 'exactly', 'steady', 'replacement', 'and', 'sea', 'farms', 'are', 'a', 'steady', 'state', 'stand', 'all', 'mankind', 'and', 'Because', 'a', 'Because', 'a', 'And', 'creatures', 'Guinea', 'Rabbits', 'and', 'lizards', 'haven', 'taken', 'a', 'all', 'What', 'harm', 'What', 'demanded', 'Cranwitz', 'said', 'at', 'was', 'a', 'Alvarez', 'had', 'heard', 'that', 'said', 'as', 'sympathy', 'as', 'and', 'a', 'certain', 'amount', 'real', 'sympathy', 'was', 'a', 'ago', 'vast', 'care', 'And', 'years', 'that', 'dinosaurs', 'have', 'man', 'ignorant', 'can', 'compare', 'real', 'asked', 'Cranwitz', 'was', 'larger', 'said', 'Cranwitz', 'Year', 'year', 'had', 'many', 'All', 'large', 'animals', 'All', 'carnivores', 'small', 'plants', 'creatures', 'Alvarez', 'said', 'What', 'wants', 'Mankind', 'against', 'Social', 'persuade', 'against', 'real', 'resistance', 'want', 'really', 'are', 'What', 'Alvarez', 'was', 'insinuating', 'Cranwitz', 'sat', 'A', 'certain', 'Someday', 'reach', 'Mankind', 'want', 'animals', 'want', 'start', 'a', 'variety', 'faded', 'stare', 'said', 'What', 'are', 'reached', 'said', 'Cranwitz', 'and', 'established', 'a', 'and', 'abandoned', 'all', 'solar', 'capable', 'human', 'Cranwitz', 'said', 'are', 'stars', 'Earthlike', 'Alvarez', 'head', 'reach', 'have', 'finally', 'Earth', 'and', 'human', 'have', 'made', 'and', 'Earth', 'margin', 'a', 'starship', 'capable', 'years', 'space', 'Have', 'wasn', 'last', 'said', 'Cranwitz', 'was', 'said', 'Alvarez', 'haven', 'romanticized', 'madness', 'was', 'a', 'and', 'was', 'and', 'reason', 'than', 'half', 'substance', 'war', 'and', 'preparations', 'war', 'ran', 'wasted', 'and', 'at', 'chance', 'and', 'tolerated', 'deviants', 'all', 'dreaded', 'what', 'called', 'population', 'and', 'dreamed', 'reaching', 'as', 'a', 'escape', 'combination', 'and', 'advances', 'that', 'changed', 'case', 'are', 'was', 'establishment', 'a', 'and', 'art', 'planetary', 'peace', 'and', 'a', 'placid', 'humanity', 'peacefully', 'and', 'multiplication', 'was', 'advance', 'exactly', 'many', 'Earth', 'many', 'calories', 'reached', 'Earth', 'and', 'that', 'many', 'carbon', 'plants', 'each', 'year', 'and', 'many', 'animal', 'plants', 'Earth', 'animal', 'Cranwitz', 'finally', 'And', 'all', 'human', 'Exactly', 'meant', 'all', 'animal', 'That', 'way', 'said', 'angrily', 'Alvarez', 'again', 'Cranwitz', 'said', 'replaced', 'placoderms', 'had', 'replaced', 'replaced', 'amphibians', 'and', 'replaced', 'mammals', 'at', 'last', 'has', 'reached', 'peak', 'Earth', 'bears', 'population', 'human', 'demanded', 'Cranwitz', 'vast', 'all', 'face', 'land', 'plants', 'and', 'animals', 'what', 'have', 'And', 'all', 'uninhabited', 'ocean', 'has', 'a', 'plankton', 'plankton', 'harvest', 'and', 'as', 'organic', 'matter', 'plankton', 'said', 'Alvarez', 'war', 'are', 'regulated', 'deaths', 'are', 'peaceful', 'infants', 'are', 'genetically', 'adjusted', 'and', 'Earth', 'are', 'normal', 'brain', 'largest', 'conceivable', 'quantity', 'conceivable', 'matter', 'And', 'all', 'that', 'brain', 'what', 'heaved', 'an', 'audible', 'exasperation', 'Alvarez', 'calm', 'said', 'destination', 'Perhaps', 'animals', 'Earth', 'was', 'was', 'necessary', 'and', 'take', 'chances', 'was', 'wasteful', 'Earth', 'was', 'had', 'and', 'had', 'after', 'mankind', 'came', 'had', 'learn', 'way', 'was', 'learning', 'had', 'take', 'chances', 'attempt', 'mad', 'mankind', 'has', 'have', 'planet', 'and', 'Alvarez', 'paused', 'that', 'said', 'want', 'Cranwitz', 'wants', 'generation', 'that', 'has', 'reached', 'and', 'want', 'having', 'reached', 'animals', 'are', 'way', 'Cranwitz', 'head', 'take', 'all', 'have', 'what', 'human', 'said', 'human', 'another', 'human', 'brain', 'what', 'measure', 'can', 'evaluate', 'human', 'brain', 'already', 'have', 'said', 'Alvarez', 'and', 'that', 'and', 'are', 'All', 'Earth', 'prepared', 'celebrate', 'year', 'AD', 'year', 'that', 'planet', 'at', 'last', 'goal', 'achieved', 'all', 'Shall', 'fan', 'a', 'flaw', 'a', 'flaw', 'Cranwitz', 'Earth', 'has', 'waiting', 'years', 'wait', 'cannot', 'and', 'voluntarily', 'a', 'said', 'all', 'say', 'that', 'Cranwitz', 'acted', 'and', 'that', 'act', 'was', 'reached', 'And', 'Cranwitz', 'said', 'imitating', 'And', 'say', 'that', 'Alvarez', 'and', 'persuaded', 'said', 'Alvarez', 'audible', 'annoyance', 'Cranwitz', 'can', 'against', 'Whatever', 'and', 'that', 'way', 'are', 'an', 'idealist', 'can', 'that', 'last', 'many', 'Cranwitz', 'and', 'Alvarez', 'hand', 'waved', 'and', 'said', 'a', 'remained', 'Cranwitz', 'Can', 'have', 'day', 'animals', 'And', 'And', 'stand', 'mankind', 'and', 'And', 'Alvarez', 'said', 'And', 'and', 'vast', 'continental', 'human', 'placidly', 'human', 'placidly', 'ate', 'half', 'a', 'carefully', 'made', 'talked', 'heat', 'ran', 'machinery', 'organized', 'libraries', 'amused', 'and', 'varied', 'machinery', 'repaired', 'plankton', 'planetary', 'ocean', 'basked', 'and', 'and', 'and', 'and', 'and', 'transferred', 'and', 'that', 'And', 'human', 'wastes', 'gathered', 'and', 'irradiated', 'and', 'and', 'human', 'and', 'treated', 'and', 'and', 'was', 'back', 'ocean', 'And', 'all', 'was', 'as', 'had', 'decades', 'and', 'millennia', 'Cranwitz', 'creatures', 'a', 'last', 'guinea', 'a', 'gaze', 'a', 'blade', 'grass', 'all', 'last', 'Earth', 'that', 'humans', 'humans', 'and', 'seared', 'plants', 'and', 'cages', 'and', 'animals', 'appropriate', 'vapors', 'and', 'and', 'last', 'was', 'and', 'mankind', 'and', 'was', 'Cranwitz', 'departed', 'Cranwitz', 'also', 'vapors', 'and', 'want', 'And', 'after', 'that', 'was', 'really', 'all', 'Earth', 'all', 'inhabitants', 'and', 'all', 'human', 'brain', 'was', 'Cranwitz', 'unusual', 'idea', 'universal', 'placidity', 'that', 'meant', 'that', 'had', 'at', 'last', 'achieved', 'A', 'was', 'and', 'had', 'paid', 'fears', 'unallayed', 'That', 'had', 'accepted', 'was', 'had', 'taken', 'was', 'GREATEST', 'ASSET', 'Campbell', 'same', 'again', 'years', 'and', 'Magazine', 'said', 'was', 'handing', 'that', 'had', 'at', 'a', 'and', 'said', 'necessarily', 'agree', 'another', 'read', 'and', 'hadn', 'about', 'crazy', 'about', 'unable', 'because', 'was', 'ashamed', 'and', 'was', 'great', 'man', 'feared', 'as', 'jackass', 'taking', 'that', 'had', 'added', 'favor', 'many', 'many', 'had', 'And', 'case', 'as', 'that', 'years', 'have', 'far', 'than', 'years', 'stayed', 'and', 'that', 'population', 'Earth', 'estimated', 'rate', 'increase', 'that', 'population', 'years', 'rate', 'Increase', 'can', 'maintained', 'years', 'year', 'A', 'human', 'and', 'equal', 'total', 'animal', 'Earth', 'that', 'above']\n"
          ]
        }
      ]
    },
    {
      "cell_type": "code",
      "source": [
        "ans = []\n",
        "with open(path_to_text, \"r\") as file1:\n",
        "    for line in file1:\n",
        "        ans = ans + re.findall(r\"[^\\\".!?]+[!]\", line)\n",
        "for i in range(len(ans)):\n",
        "    ans[i] = re.sub(\"^\\s+|\\n|\\r|\\s+$\", '', ans[i])\n",
        "print(ans)"
      ],
      "metadata": {
        "colab": {
          "base_uri": "https://localhost:8080/"
        },
        "id": "yHEWh5AnIKuR",
        "outputId": "85119f73-b522-45f3-f429-f9ce765133b3"
      },
      "execution_count": 14,
      "outputs": [
        {
          "output_type": "stream",
          "name": "stdout",
          "text": [
            "['Yes!', 'Literally!', 'There was once a time!', 'Centuries ago!', 'Think, Cranwitz!', 'If we succeed!']\n"
          ]
        }
      ]
    },
    {
      "cell_type": "code",
      "source": [
        "ans = set()\n",
        "with open(path_to_text, \"r\") as file1:\n",
        "    for line in file1:\n",
        "        uws = re.findall(r\"[A-Za-z]\\w*\", line.lower()) #re.findall(r\"[A-Za-z]\\w+\", line.lower()) if we nead words with more then 1 letter \n",
        "        ans.update(uws)\n",
        "ans = list(ans)\n",
        "lenword = []\n",
        "for i in ans:\n",
        "    lenword.append(len(i))\n"
      ],
      "metadata": {
        "id": "z8CTnMCKOJlH"
      },
      "execution_count": 15,
      "outputs": []
    },
    {
      "cell_type": "code",
      "source": [
        "import seaborn as sns\n",
        "import matplotlib.pyplot as plt\n",
        "\n",
        "g = sns.histplot(x = lenword, discrete=True, stat='density')\n",
        "plt.xlabel('Len of word')\n",
        "plt.ylabel('Density of lenght of unique words')\n",
        "\n",
        "plt.show()"
      ],
      "metadata": {
        "colab": {
          "base_uri": "https://localhost:8080/",
          "height": 279
        },
        "id": "PJ9RoBrJRAHy",
        "outputId": "d5166edb-2448-4304-88d5-086a4b85e404"
      },
      "execution_count": 16,
      "outputs": [
        {
          "output_type": "display_data",
          "data": {
            "text/plain": [
              "<Figure size 432x288 with 1 Axes>"
            ],
            "image/png": "[encoded data removed]"
          },
          "metadata": {
            "needs_background": "light"
          }
        }
      ]
    },
    {
      "cell_type": "code",
      "source": [
        "def brick_tongue(string):\n",
        "    dictb = dict()\n",
        "    for i in \"еаоуяыи\":\n",
        "        dictb[i] = f\"к{i}\"\n",
        "        dictb [i.upper()] = f\"К{i.upper()}\"\n",
        "    for i in \"AEIOUY\":\n",
        "        dictb[i] = f\"K{i}\"\n",
        "        dictb [i.lower()] = f\"k{i.lower()}\"\n",
        "        \n",
        "\n",
        "    ans = []\n",
        "    l = re.split('([еаоуяыиAEIOUY])', string, flags=re.IGNORECASE)\n",
        "\n",
        "    ans = list(l[0])\n",
        "    for i in range(1, len(l), 2):\n",
        "        t = dictb[l[i]]\n",
        "        ans.append(t.join(l[i:i+2]))\n",
        "\n",
        "    ans=''.join(ans)\n",
        "    return (ans)\n",
        "\n",
        "print(brick_tongue(input(\"Enter the word you want to translate into brick language\\n\")))"
      ],
      "metadata": {
        "colab": {
          "base_uri": "https://localhost:8080/"
        },
        "id": "fd5VouMfn0jL",
        "outputId": "a36c7d86-5d45-43fd-ccb3-3e29a475fed5"
      },
      "execution_count": 17,
      "outputs": [
        {
          "output_type": "stream",
          "name": "stdout",
          "text": [
            "Enter the word you want to translate into brick language\n",
            "сИнхрОфАзАтрОн\n",
            "сИКИнхрОКОфАКАзАКАтрОКОн\n"
          ]
        }
      ]
    },
    {
      "cell_type": "code",
      "source": [
        "def find_n_words_sentences(text, n):\n",
        "    lines = re.split(r'\\s*[!?.]\\s*', text)\n",
        "    ans = []\n",
        "    for i in lines:\n",
        "        words = re.findall(r\"\\w+\", i)\n",
        "        if len(words) == n:\n",
        "            ans.append(words)\n",
        "    return ans\n",
        "\n",
        "text_n = input(\"Enter the text in which you want to find sentences of length n\\n\")\n",
        "n = int(input(\"Enter n\\n\"))\n",
        "print(find_n_words_sentences(text_n, n))"
      ],
      "metadata": {
        "colab": {
          "base_uri": "https://localhost:8080/"
        },
        "id": "2WhJshnX9LSd",
        "outputId": "92bd9c72-d50e-4faa-b144-7b2ec9a9ee48"
      },
      "execution_count": 20,
      "outputs": [
        {
          "output_type": "stream",
          "name": "stdout",
          "text": [
            "Enter the text in which you want to find sentences of length n\n",
            "Здесь три слова. Здесь тоже три\n",
            "Enter n\n",
            "3\n",
            "[['Здесь', 'три', 'слова'], ['Здесь', 'тоже', 'три']]\n"
          ]
        }
      ]
    }
  ]
}